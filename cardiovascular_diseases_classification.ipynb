{
  "nbformat": 4,
  "nbformat_minor": 0,
  "metadata": {
    "colab": {
      "name": "cardiovascular_diseases_classification.ipynb",
      "provenance": [],
      "authorship_tag": "ABX9TyNIraAZQBzWauVKTCoTcgLN",
      "include_colab_link": true
    },
    "kernelspec": {
      "name": "python3",
      "display_name": "Python 3"
    },
    "language_info": {
      "name": "python"
    }
  },
  "cells": [
    {
      "cell_type": "markdown",
      "metadata": {
        "id": "view-in-github",
        "colab_type": "text"
      },
      "source": [
        "<a href=\"https://colab.research.google.com/github/mannb986/cardiovascular_dieases_classification/blob/main/cardiovascular_diseases_classification.ipynb\" target=\"_parent\"><img src=\"https://colab.research.google.com/assets/colab-badge.svg\" alt=\"Open In Colab\"/></a>"
      ]
    },
    {
      "cell_type": "markdown",
      "metadata": {
        "id": "HutKsOzVQG05"
      },
      "source": [
        "# Cardiovascular Diseases Classification\n",
        "\n",
        "In this project I will use a dataset from Kaggle to predict the survival of patients with heart failure from serum creatine and ejection fraction, and other factors such as age, anemia, diabetes, etc. \n",
        "\n",
        "Cardiovascular diseases (CVDs) are the number 1 cause of death globally, taking an estimated 17.9 million lives each year, which accounts for 31% of all deaths worldwide. Heart failure is a common event caused by CVDs, and this dataset contains 12 features that can be used to predict mortality by heart failure.\n",
        "\n",
        "Most cardiovascular diseases can be prevented by addressing behavioral risk factors such as tobacco use, unhealthy diet and obesity, physical inactivity, and harmful alcohol use using population-wide strategies.\n",
        "\n",
        "People with cardiovascular disease or who are at high cardiovascular risk (due to the presence of one or more risk factors such as hypertension, diabetes, hyperlipidemia, or already established disease) need early detection and management wherein a machine learning model can be of great help."
      ]
    },
    {
      "cell_type": "markdown",
      "metadata": {
        "id": "g-hSv2eiQrjP"
      },
      "source": [
        "## Loading the Data"
      ]
    },
    {
      "cell_type": "code",
      "metadata": {
        "colab": {
          "resources": {
            "http://localhost:8080/nbextensions/google.colab/files.js": {
              "data": "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",
              "ok": true,
              "headers": [
                [
                  "content-type",
                  "application/javascript"
                ]
              ],
              "status": 200,
              "status_text": ""
            }
          },
          "base_uri": "https://localhost:8080/",
          "height": 72
        },
        "id": "Ax56AZuWP9zd",
        "outputId": "65f410a6-eb97-4133-a4e7-b48d5e4d8122"
      },
      "source": [
        " from google.colab import files\n",
        "\n",
        "\n",
        "uploaded = files.upload()"
      ],
      "execution_count": 1,
      "outputs": [
        {
          "output_type": "display_data",
          "data": {
            "text/html": [
              "\n",
              "     <input type=\"file\" id=\"files-2ae17bc9-84ff-4017-a423-c310a394fb3f\" name=\"files[]\" multiple disabled\n",
              "        style=\"border:none\" />\n",
              "     <output id=\"result-2ae17bc9-84ff-4017-a423-c310a394fb3f\">\n",
              "      Upload widget is only available when the cell has been executed in the\n",
              "      current browser session. Please rerun this cell to enable.\n",
              "      </output>\n",
              "      <script src=\"/nbextensions/google.colab/files.js\"></script> "
            ],
            "text/plain": [
              "<IPython.core.display.HTML object>"
            ]
          },
          "metadata": {
            "tags": []
          }
        },
        {
          "output_type": "stream",
          "text": [
            "Saving heart_failure.csv to heart_failure (1).csv\n"
          ],
          "name": "stdout"
        }
      ]
    },
    {
      "cell_type": "code",
      "metadata": {
        "id": "ARReTC0DSVpi"
      },
      "source": [
        "import pandas as pd \n",
        "from sklearn.preprocessing import StandardScaler, LabelEncoder\n",
        "from sklearn.model_selection import train_test_split\n",
        "from collections import Counter\n",
        "from sklearn.compose import ColumnTransformer\n",
        "from tensorflow.keras.models import Sequential\n",
        "from tensorflow.keras.layers import Dense, InputLayer\n",
        "from sklearn.metrics import classification_report\n",
        "from tensorflow.keras.utils import to_categorical\n",
        "import numpy as np\n",
        "\n",
        "data = pd.read_csv('heart_failure.csv')"
      ],
      "execution_count": 2,
      "outputs": []
    },
    {
      "cell_type": "code",
      "metadata": {
        "colab": {
          "base_uri": "https://localhost:8080/"
        },
        "id": "_2MN0cQgSk0N",
        "outputId": "4310f0a6-9278-4079-d7ad-d4b647c73f2b"
      },
      "source": [
        "data.info()"
      ],
      "execution_count": 3,
      "outputs": [
        {
          "output_type": "stream",
          "text": [
            "<class 'pandas.core.frame.DataFrame'>\n",
            "RangeIndex: 299 entries, 0 to 298\n",
            "Data columns (total 15 columns):\n",
            " #   Column                    Non-Null Count  Dtype  \n",
            "---  ------                    --------------  -----  \n",
            " 0   Unnamed: 0                299 non-null    int64  \n",
            " 1   age                       299 non-null    float64\n",
            " 2   anaemia                   299 non-null    object \n",
            " 3   creatinine_phosphokinase  299 non-null    int64  \n",
            " 4   diabetes                  299 non-null    object \n",
            " 5   ejection_fraction         299 non-null    int64  \n",
            " 6   high_blood_pressure       299 non-null    object \n",
            " 7   platelets                 299 non-null    float64\n",
            " 8   serum_creatinine          299 non-null    float64\n",
            " 9   serum_sodium              299 non-null    int64  \n",
            " 10  sex                       299 non-null    object \n",
            " 11  smoking                   299 non-null    object \n",
            " 12  time                      299 non-null    int64  \n",
            " 13  DEATH_EVENT               299 non-null    int64  \n",
            " 14  death_event               299 non-null    object \n",
            "dtypes: float64(3), int64(6), object(6)\n",
            "memory usage: 35.2+ KB\n"
          ],
          "name": "stdout"
        }
      ]
    },
    {
      "cell_type": "code",
      "metadata": {
        "colab": {
          "base_uri": "https://localhost:8080/",
          "height": 241
        },
        "id": "WFQfGRfySsxd",
        "outputId": "3719d6a9-6139-4173-c8b6-116a6404d3df"
      },
      "source": [
        "data.head()"
      ],
      "execution_count": 4,
      "outputs": [
        {
          "output_type": "execute_result",
          "data": {
            "text/html": [
              "<div>\n",
              "<style scoped>\n",
              "    .dataframe tbody tr th:only-of-type {\n",
              "        vertical-align: middle;\n",
              "    }\n",
              "\n",
              "    .dataframe tbody tr th {\n",
              "        vertical-align: top;\n",
              "    }\n",
              "\n",
              "    .dataframe thead th {\n",
              "        text-align: right;\n",
              "    }\n",
              "</style>\n",
              "<table border=\"1\" class=\"dataframe\">\n",
              "  <thead>\n",
              "    <tr style=\"text-align: right;\">\n",
              "      <th></th>\n",
              "      <th>Unnamed: 0</th>\n",
              "      <th>age</th>\n",
              "      <th>anaemia</th>\n",
              "      <th>creatinine_phosphokinase</th>\n",
              "      <th>diabetes</th>\n",
              "      <th>ejection_fraction</th>\n",
              "      <th>high_blood_pressure</th>\n",
              "      <th>platelets</th>\n",
              "      <th>serum_creatinine</th>\n",
              "      <th>serum_sodium</th>\n",
              "      <th>sex</th>\n",
              "      <th>smoking</th>\n",
              "      <th>time</th>\n",
              "      <th>DEATH_EVENT</th>\n",
              "      <th>death_event</th>\n",
              "    </tr>\n",
              "  </thead>\n",
              "  <tbody>\n",
              "    <tr>\n",
              "      <th>0</th>\n",
              "      <td>0</td>\n",
              "      <td>75.0</td>\n",
              "      <td>no</td>\n",
              "      <td>582</td>\n",
              "      <td>no</td>\n",
              "      <td>20</td>\n",
              "      <td>yes</td>\n",
              "      <td>265000.00</td>\n",
              "      <td>1.9</td>\n",
              "      <td>130</td>\n",
              "      <td>yes</td>\n",
              "      <td>no</td>\n",
              "      <td>4</td>\n",
              "      <td>1</td>\n",
              "      <td>yes</td>\n",
              "    </tr>\n",
              "    <tr>\n",
              "      <th>1</th>\n",
              "      <td>1</td>\n",
              "      <td>55.0</td>\n",
              "      <td>no</td>\n",
              "      <td>7861</td>\n",
              "      <td>no</td>\n",
              "      <td>38</td>\n",
              "      <td>no</td>\n",
              "      <td>263358.03</td>\n",
              "      <td>1.1</td>\n",
              "      <td>136</td>\n",
              "      <td>yes</td>\n",
              "      <td>no</td>\n",
              "      <td>6</td>\n",
              "      <td>1</td>\n",
              "      <td>yes</td>\n",
              "    </tr>\n",
              "    <tr>\n",
              "      <th>2</th>\n",
              "      <td>2</td>\n",
              "      <td>65.0</td>\n",
              "      <td>no</td>\n",
              "      <td>146</td>\n",
              "      <td>no</td>\n",
              "      <td>20</td>\n",
              "      <td>no</td>\n",
              "      <td>162000.00</td>\n",
              "      <td>1.3</td>\n",
              "      <td>129</td>\n",
              "      <td>yes</td>\n",
              "      <td>yes</td>\n",
              "      <td>7</td>\n",
              "      <td>1</td>\n",
              "      <td>yes</td>\n",
              "    </tr>\n",
              "    <tr>\n",
              "      <th>3</th>\n",
              "      <td>3</td>\n",
              "      <td>50.0</td>\n",
              "      <td>yes</td>\n",
              "      <td>111</td>\n",
              "      <td>no</td>\n",
              "      <td>20</td>\n",
              "      <td>no</td>\n",
              "      <td>210000.00</td>\n",
              "      <td>1.9</td>\n",
              "      <td>137</td>\n",
              "      <td>yes</td>\n",
              "      <td>no</td>\n",
              "      <td>7</td>\n",
              "      <td>1</td>\n",
              "      <td>yes</td>\n",
              "    </tr>\n",
              "    <tr>\n",
              "      <th>4</th>\n",
              "      <td>4</td>\n",
              "      <td>65.0</td>\n",
              "      <td>yes</td>\n",
              "      <td>160</td>\n",
              "      <td>yes</td>\n",
              "      <td>20</td>\n",
              "      <td>no</td>\n",
              "      <td>327000.00</td>\n",
              "      <td>2.7</td>\n",
              "      <td>116</td>\n",
              "      <td>no</td>\n",
              "      <td>no</td>\n",
              "      <td>8</td>\n",
              "      <td>1</td>\n",
              "      <td>yes</td>\n",
              "    </tr>\n",
              "  </tbody>\n",
              "</table>\n",
              "</div>"
            ],
            "text/plain": [
              "   Unnamed: 0   age anaemia  ...  time DEATH_EVENT  death_event\n",
              "0           0  75.0      no  ...     4           1          yes\n",
              "1           1  55.0      no  ...     6           1          yes\n",
              "2           2  65.0      no  ...     7           1          yes\n",
              "3           3  50.0     yes  ...     7           1          yes\n",
              "4           4  65.0     yes  ...     8           1          yes\n",
              "\n",
              "[5 rows x 15 columns]"
            ]
          },
          "metadata": {
            "tags": []
          },
          "execution_count": 4
        }
      ]
    },
    {
      "cell_type": "code",
      "metadata": {
        "colab": {
          "base_uri": "https://localhost:8080/"
        },
        "id": "EflMuXj9S0d6",
        "outputId": "72ace7a4-0d22-46b2-ae26-2ed71d96ff89"
      },
      "source": [
        "Counter(data['death_event'])"
      ],
      "execution_count": 5,
      "outputs": [
        {
          "output_type": "execute_result",
          "data": {
            "text/plain": [
              "Counter({'no': 203, 'yes': 96})"
            ]
          },
          "metadata": {
            "tags": []
          },
          "execution_count": 5
        }
      ]
    },
    {
      "cell_type": "code",
      "metadata": {
        "id": "E4NeKV-6TBDh"
      },
      "source": [
        "#creating labels for the model\n",
        "y = data['death_event']"
      ],
      "execution_count": 6,
      "outputs": []
    },
    {
      "cell_type": "code",
      "metadata": {
        "id": "Kk9ef2qCTO6T"
      },
      "source": [
        "#creating the features for the model\n",
        "features = [\n",
        "            'age',\n",
        "            'anaemia',\n",
        "            'creatinine_phosphokinase',\n",
        "            'diabetes',\n",
        "            'ejection_fraction',\n",
        "            'high_blood_pressure',\n",
        "            'platelets',\n",
        "            'serum_creatinine',\n",
        "            'serum_sodium',\n",
        "            'sex',\n",
        "            'smoking',\n",
        "            'time'\n",
        "            ]\n",
        "\n",
        "x = data[features]"
      ],
      "execution_count": 7,
      "outputs": []
    },
    {
      "cell_type": "code",
      "metadata": {
        "colab": {
          "base_uri": "https://localhost:8080/",
          "height": 224
        },
        "id": "fzQWJ8qbTpM4",
        "outputId": "2b526408-89f0-4e42-df59-8df40bbc45c2"
      },
      "source": [
        "x.head()"
      ],
      "execution_count": 8,
      "outputs": [
        {
          "output_type": "execute_result",
          "data": {
            "text/html": [
              "<div>\n",
              "<style scoped>\n",
              "    .dataframe tbody tr th:only-of-type {\n",
              "        vertical-align: middle;\n",
              "    }\n",
              "\n",
              "    .dataframe tbody tr th {\n",
              "        vertical-align: top;\n",
              "    }\n",
              "\n",
              "    .dataframe thead th {\n",
              "        text-align: right;\n",
              "    }\n",
              "</style>\n",
              "<table border=\"1\" class=\"dataframe\">\n",
              "  <thead>\n",
              "    <tr style=\"text-align: right;\">\n",
              "      <th></th>\n",
              "      <th>age</th>\n",
              "      <th>anaemia</th>\n",
              "      <th>creatinine_phosphokinase</th>\n",
              "      <th>diabetes</th>\n",
              "      <th>ejection_fraction</th>\n",
              "      <th>high_blood_pressure</th>\n",
              "      <th>platelets</th>\n",
              "      <th>serum_creatinine</th>\n",
              "      <th>serum_sodium</th>\n",
              "      <th>sex</th>\n",
              "      <th>smoking</th>\n",
              "      <th>time</th>\n",
              "    </tr>\n",
              "  </thead>\n",
              "  <tbody>\n",
              "    <tr>\n",
              "      <th>0</th>\n",
              "      <td>75.0</td>\n",
              "      <td>no</td>\n",
              "      <td>582</td>\n",
              "      <td>no</td>\n",
              "      <td>20</td>\n",
              "      <td>yes</td>\n",
              "      <td>265000.00</td>\n",
              "      <td>1.9</td>\n",
              "      <td>130</td>\n",
              "      <td>yes</td>\n",
              "      <td>no</td>\n",
              "      <td>4</td>\n",
              "    </tr>\n",
              "    <tr>\n",
              "      <th>1</th>\n",
              "      <td>55.0</td>\n",
              "      <td>no</td>\n",
              "      <td>7861</td>\n",
              "      <td>no</td>\n",
              "      <td>38</td>\n",
              "      <td>no</td>\n",
              "      <td>263358.03</td>\n",
              "      <td>1.1</td>\n",
              "      <td>136</td>\n",
              "      <td>yes</td>\n",
              "      <td>no</td>\n",
              "      <td>6</td>\n",
              "    </tr>\n",
              "    <tr>\n",
              "      <th>2</th>\n",
              "      <td>65.0</td>\n",
              "      <td>no</td>\n",
              "      <td>146</td>\n",
              "      <td>no</td>\n",
              "      <td>20</td>\n",
              "      <td>no</td>\n",
              "      <td>162000.00</td>\n",
              "      <td>1.3</td>\n",
              "      <td>129</td>\n",
              "      <td>yes</td>\n",
              "      <td>yes</td>\n",
              "      <td>7</td>\n",
              "    </tr>\n",
              "    <tr>\n",
              "      <th>3</th>\n",
              "      <td>50.0</td>\n",
              "      <td>yes</td>\n",
              "      <td>111</td>\n",
              "      <td>no</td>\n",
              "      <td>20</td>\n",
              "      <td>no</td>\n",
              "      <td>210000.00</td>\n",
              "      <td>1.9</td>\n",
              "      <td>137</td>\n",
              "      <td>yes</td>\n",
              "      <td>no</td>\n",
              "      <td>7</td>\n",
              "    </tr>\n",
              "    <tr>\n",
              "      <th>4</th>\n",
              "      <td>65.0</td>\n",
              "      <td>yes</td>\n",
              "      <td>160</td>\n",
              "      <td>yes</td>\n",
              "      <td>20</td>\n",
              "      <td>no</td>\n",
              "      <td>327000.00</td>\n",
              "      <td>2.7</td>\n",
              "      <td>116</td>\n",
              "      <td>no</td>\n",
              "      <td>no</td>\n",
              "      <td>8</td>\n",
              "    </tr>\n",
              "  </tbody>\n",
              "</table>\n",
              "</div>"
            ],
            "text/plain": [
              "    age anaemia  creatinine_phosphokinase  ...  sex  smoking time\n",
              "0  75.0      no                       582  ...  yes       no    4\n",
              "1  55.0      no                      7861  ...  yes       no    6\n",
              "2  65.0      no                       146  ...  yes      yes    7\n",
              "3  50.0     yes                       111  ...  yes       no    7\n",
              "4  65.0     yes                       160  ...   no       no    8\n",
              "\n",
              "[5 rows x 12 columns]"
            ]
          },
          "metadata": {
            "tags": []
          },
          "execution_count": 8
        }
      ]
    },
    {
      "cell_type": "markdown",
      "metadata": {
        "id": "-tjG3AmuTtwD"
      },
      "source": [
        "## Data Processing"
      ]
    },
    {
      "cell_type": "code",
      "metadata": {
        "id": "FczT7yEzTvum"
      },
      "source": [
        "#converting categorical features to one-hot encoding vectors\n",
        "x = pd.get_dummies(x)"
      ],
      "execution_count": 9,
      "outputs": []
    },
    {
      "cell_type": "code",
      "metadata": {
        "colab": {
          "base_uri": "https://localhost:8080/",
          "height": 224
        },
        "id": "Gzp2K0IrT_7_",
        "outputId": "6791bf80-9ad8-4de9-c214-8b121118c6f1"
      },
      "source": [
        "x.head()"
      ],
      "execution_count": 10,
      "outputs": [
        {
          "output_type": "execute_result",
          "data": {
            "text/html": [
              "<div>\n",
              "<style scoped>\n",
              "    .dataframe tbody tr th:only-of-type {\n",
              "        vertical-align: middle;\n",
              "    }\n",
              "\n",
              "    .dataframe tbody tr th {\n",
              "        vertical-align: top;\n",
              "    }\n",
              "\n",
              "    .dataframe thead th {\n",
              "        text-align: right;\n",
              "    }\n",
              "</style>\n",
              "<table border=\"1\" class=\"dataframe\">\n",
              "  <thead>\n",
              "    <tr style=\"text-align: right;\">\n",
              "      <th></th>\n",
              "      <th>age</th>\n",
              "      <th>creatinine_phosphokinase</th>\n",
              "      <th>ejection_fraction</th>\n",
              "      <th>platelets</th>\n",
              "      <th>serum_creatinine</th>\n",
              "      <th>serum_sodium</th>\n",
              "      <th>time</th>\n",
              "      <th>anaemia_no</th>\n",
              "      <th>anaemia_yes</th>\n",
              "      <th>diabetes_no</th>\n",
              "      <th>diabetes_yes</th>\n",
              "      <th>high_blood_pressure_no</th>\n",
              "      <th>high_blood_pressure_yes</th>\n",
              "      <th>sex_no</th>\n",
              "      <th>sex_yes</th>\n",
              "      <th>smoking_no</th>\n",
              "      <th>smoking_yes</th>\n",
              "    </tr>\n",
              "  </thead>\n",
              "  <tbody>\n",
              "    <tr>\n",
              "      <th>0</th>\n",
              "      <td>75.0</td>\n",
              "      <td>582</td>\n",
              "      <td>20</td>\n",
              "      <td>265000.00</td>\n",
              "      <td>1.9</td>\n",
              "      <td>130</td>\n",
              "      <td>4</td>\n",
              "      <td>1</td>\n",
              "      <td>0</td>\n",
              "      <td>1</td>\n",
              "      <td>0</td>\n",
              "      <td>0</td>\n",
              "      <td>1</td>\n",
              "      <td>0</td>\n",
              "      <td>1</td>\n",
              "      <td>1</td>\n",
              "      <td>0</td>\n",
              "    </tr>\n",
              "    <tr>\n",
              "      <th>1</th>\n",
              "      <td>55.0</td>\n",
              "      <td>7861</td>\n",
              "      <td>38</td>\n",
              "      <td>263358.03</td>\n",
              "      <td>1.1</td>\n",
              "      <td>136</td>\n",
              "      <td>6</td>\n",
              "      <td>1</td>\n",
              "      <td>0</td>\n",
              "      <td>1</td>\n",
              "      <td>0</td>\n",
              "      <td>1</td>\n",
              "      <td>0</td>\n",
              "      <td>0</td>\n",
              "      <td>1</td>\n",
              "      <td>1</td>\n",
              "      <td>0</td>\n",
              "    </tr>\n",
              "    <tr>\n",
              "      <th>2</th>\n",
              "      <td>65.0</td>\n",
              "      <td>146</td>\n",
              "      <td>20</td>\n",
              "      <td>162000.00</td>\n",
              "      <td>1.3</td>\n",
              "      <td>129</td>\n",
              "      <td>7</td>\n",
              "      <td>1</td>\n",
              "      <td>0</td>\n",
              "      <td>1</td>\n",
              "      <td>0</td>\n",
              "      <td>1</td>\n",
              "      <td>0</td>\n",
              "      <td>0</td>\n",
              "      <td>1</td>\n",
              "      <td>0</td>\n",
              "      <td>1</td>\n",
              "    </tr>\n",
              "    <tr>\n",
              "      <th>3</th>\n",
              "      <td>50.0</td>\n",
              "      <td>111</td>\n",
              "      <td>20</td>\n",
              "      <td>210000.00</td>\n",
              "      <td>1.9</td>\n",
              "      <td>137</td>\n",
              "      <td>7</td>\n",
              "      <td>0</td>\n",
              "      <td>1</td>\n",
              "      <td>1</td>\n",
              "      <td>0</td>\n",
              "      <td>1</td>\n",
              "      <td>0</td>\n",
              "      <td>0</td>\n",
              "      <td>1</td>\n",
              "      <td>1</td>\n",
              "      <td>0</td>\n",
              "    </tr>\n",
              "    <tr>\n",
              "      <th>4</th>\n",
              "      <td>65.0</td>\n",
              "      <td>160</td>\n",
              "      <td>20</td>\n",
              "      <td>327000.00</td>\n",
              "      <td>2.7</td>\n",
              "      <td>116</td>\n",
              "      <td>8</td>\n",
              "      <td>0</td>\n",
              "      <td>1</td>\n",
              "      <td>0</td>\n",
              "      <td>1</td>\n",
              "      <td>1</td>\n",
              "      <td>0</td>\n",
              "      <td>1</td>\n",
              "      <td>0</td>\n",
              "      <td>1</td>\n",
              "      <td>0</td>\n",
              "    </tr>\n",
              "  </tbody>\n",
              "</table>\n",
              "</div>"
            ],
            "text/plain": [
              "    age  creatinine_phosphokinase  ...  smoking_no  smoking_yes\n",
              "0  75.0                       582  ...           1            0\n",
              "1  55.0                      7861  ...           1            0\n",
              "2  65.0                       146  ...           0            1\n",
              "3  50.0                       111  ...           1            0\n",
              "4  65.0                       160  ...           1            0\n",
              "\n",
              "[5 rows x 17 columns]"
            ]
          },
          "metadata": {
            "tags": []
          },
          "execution_count": 10
        }
      ]
    },
    {
      "cell_type": "code",
      "metadata": {
        "id": "yJu27lRrUEbj"
      },
      "source": [
        "X_train, X_test, Y_train, Y_test = train_test_split(x, y, test_size=0.33, random_state=42)"
      ],
      "execution_count": 11,
      "outputs": []
    },
    {
      "cell_type": "code",
      "metadata": {
        "id": "egF8-bOLUcV2"
      },
      "source": [
        "columns = [\n",
        "           'age',\n",
        "           'creatinine_phosphokinase',\n",
        "           'ejection_fraction',\n",
        "           'platelets',\n",
        "           'serum_creatinine',\n",
        "           'serum_sodium',\n",
        "           'time'\n",
        "           ]\n",
        "ct = ColumnTransformer([(\"numeric\", StandardScaler(), columns)], remainder='passthrough')"
      ],
      "execution_count": 12,
      "outputs": []
    },
    {
      "cell_type": "code",
      "metadata": {
        "id": "_VnYXFjyVWjw"
      },
      "source": [
        "X_train = ct.fit_transform(X_train)"
      ],
      "execution_count": 13,
      "outputs": []
    },
    {
      "cell_type": "code",
      "metadata": {
        "id": "lAb6TogxVi2m"
      },
      "source": [
        "X_test = ct.transform(X_test)"
      ],
      "execution_count": 14,
      "outputs": []
    },
    {
      "cell_type": "markdown",
      "metadata": {
        "id": "0x1wMA1NVpRd"
      },
      "source": [
        "## Prepare Labels for Classification"
      ]
    },
    {
      "cell_type": "code",
      "metadata": {
        "id": "P0IZiPX9Vn6c"
      },
      "source": [
        "le = LabelEncoder()"
      ],
      "execution_count": 15,
      "outputs": []
    },
    {
      "cell_type": "code",
      "metadata": {
        "id": "fmJ-E-uNV1p-"
      },
      "source": [
        "Y_train = le.fit_transform(Y_train.astype(str))\n",
        "Y_test = le.transform(Y_test.astype(str))"
      ],
      "execution_count": 16,
      "outputs": []
    },
    {
      "cell_type": "code",
      "metadata": {
        "id": "Bh7QsRqMWdCV"
      },
      "source": [
        "#transforming the encoded labels into binary vector\n",
        "Y_train = to_categorical(Y_train)\n",
        "Y_test = to_categorical(Y_test)"
      ],
      "execution_count": 17,
      "outputs": []
    },
    {
      "cell_type": "markdown",
      "metadata": {
        "id": "HhJBFkAvXZ-p"
      },
      "source": [
        "## Design the Model"
      ]
    },
    {
      "cell_type": "code",
      "metadata": {
        "id": "KIN7cN9wXvY3"
      },
      "source": [
        "model = Sequential()"
      ],
      "execution_count": 18,
      "outputs": []
    },
    {
      "cell_type": "code",
      "metadata": {
        "id": "-ZoF_uz3XyFs"
      },
      "source": [
        "model.add(InputLayer(input_shape=(X_train.shape[1],)))"
      ],
      "execution_count": 19,
      "outputs": []
    },
    {
      "cell_type": "code",
      "metadata": {
        "id": "B9Yo6rZ2YCZ9"
      },
      "source": [
        "model.add(Dense(12, activation='relu'))"
      ],
      "execution_count": 20,
      "outputs": []
    },
    {
      "cell_type": "code",
      "metadata": {
        "id": "P5IGLaY6YLoR"
      },
      "source": [
        "model.add(Dense(2, activation='softmax'))"
      ],
      "execution_count": 21,
      "outputs": []
    },
    {
      "cell_type": "code",
      "metadata": {
        "colab": {
          "base_uri": "https://localhost:8080/"
        },
        "id": "9bv4KrHwYZo3",
        "outputId": "c1669f31-b934-4479-d456-d1504d18d48b"
      },
      "source": [
        "model.summary()"
      ],
      "execution_count": 22,
      "outputs": [
        {
          "output_type": "stream",
          "text": [
            "Model: \"sequential\"\n",
            "_________________________________________________________________\n",
            "Layer (type)                 Output Shape              Param #   \n",
            "=================================================================\n",
            "dense (Dense)                (None, 12)                216       \n",
            "_________________________________________________________________\n",
            "dense_1 (Dense)              (None, 2)                 26        \n",
            "=================================================================\n",
            "Total params: 242\n",
            "Trainable params: 242\n",
            "Non-trainable params: 0\n",
            "_________________________________________________________________\n"
          ],
          "name": "stdout"
        }
      ]
    },
    {
      "cell_type": "code",
      "metadata": {
        "id": "5AtHNiAuYdQf"
      },
      "source": [
        "model.compile(loss='categorical_crossentropy', optimizer='adam', metrics=['accuracy'])"
      ],
      "execution_count": 23,
      "outputs": []
    },
    {
      "cell_type": "markdown",
      "metadata": {
        "id": "qjjeggx6Ywjb"
      },
      "source": [
        "## Train & Evaluate the Model"
      ]
    },
    {
      "cell_type": "code",
      "metadata": {
        "colab": {
          "base_uri": "https://localhost:8080/"
        },
        "id": "4eNJMEnGYzbT",
        "outputId": "cb48d205-2bbe-4c9e-9d00-c745a11b9545"
      },
      "source": [
        "model.fit(X_train, Y_train, epochs=100, batch_size=16, verbose=1)"
      ],
      "execution_count": 24,
      "outputs": [
        {
          "output_type": "stream",
          "text": [
            "Epoch 1/100\n",
            "13/13 [==============================] - 1s 2ms/step - loss: 0.7335 - accuracy: 0.7032\n",
            "Epoch 2/100\n",
            "13/13 [==============================] - 0s 2ms/step - loss: 0.6382 - accuracy: 0.7341\n",
            "Epoch 3/100\n",
            "13/13 [==============================] - 0s 2ms/step - loss: 0.6985 - accuracy: 0.7275\n",
            "Epoch 4/100\n",
            "13/13 [==============================] - 0s 2ms/step - loss: 0.6338 - accuracy: 0.7487\n",
            "Epoch 5/100\n",
            "13/13 [==============================] - 0s 2ms/step - loss: 0.6141 - accuracy: 0.7432\n",
            "Epoch 6/100\n",
            "13/13 [==============================] - 0s 2ms/step - loss: 0.5681 - accuracy: 0.7381\n",
            "Epoch 7/100\n",
            "13/13 [==============================] - 0s 2ms/step - loss: 0.5919 - accuracy: 0.7421\n",
            "Epoch 8/100\n",
            "13/13 [==============================] - 0s 2ms/step - loss: 0.5503 - accuracy: 0.7797\n",
            "Epoch 9/100\n",
            "13/13 [==============================] - 0s 2ms/step - loss: 0.5641 - accuracy: 0.7477\n",
            "Epoch 10/100\n",
            "13/13 [==============================] - 0s 2ms/step - loss: 0.5596 - accuracy: 0.7614\n",
            "Epoch 11/100\n",
            "13/13 [==============================] - 0s 2ms/step - loss: 0.4622 - accuracy: 0.7908\n",
            "Epoch 12/100\n",
            "13/13 [==============================] - 0s 2ms/step - loss: 0.5271 - accuracy: 0.7701\n",
            "Epoch 13/100\n",
            "13/13 [==============================] - 0s 2ms/step - loss: 0.4396 - accuracy: 0.8140\n",
            "Epoch 14/100\n",
            "13/13 [==============================] - 0s 2ms/step - loss: 0.5232 - accuracy: 0.7998\n",
            "Epoch 15/100\n",
            "13/13 [==============================] - 0s 2ms/step - loss: 0.4968 - accuracy: 0.7549\n",
            "Epoch 16/100\n",
            "13/13 [==============================] - 0s 2ms/step - loss: 0.4499 - accuracy: 0.8159\n",
            "Epoch 17/100\n",
            "13/13 [==============================] - 0s 3ms/step - loss: 0.4200 - accuracy: 0.8105\n",
            "Epoch 18/100\n",
            "13/13 [==============================] - 0s 2ms/step - loss: 0.4559 - accuracy: 0.7796\n",
            "Epoch 19/100\n",
            "13/13 [==============================] - 0s 2ms/step - loss: 0.4164 - accuracy: 0.8173\n",
            "Epoch 20/100\n",
            "13/13 [==============================] - 0s 1ms/step - loss: 0.3717 - accuracy: 0.8349\n",
            "Epoch 21/100\n",
            "13/13 [==============================] - 0s 2ms/step - loss: 0.3574 - accuracy: 0.8635\n",
            "Epoch 22/100\n",
            "13/13 [==============================] - 0s 2ms/step - loss: 0.3649 - accuracy: 0.8394\n",
            "Epoch 23/100\n",
            "13/13 [==============================] - 0s 2ms/step - loss: 0.3888 - accuracy: 0.8315\n",
            "Epoch 24/100\n",
            "13/13 [==============================] - 0s 2ms/step - loss: 0.3587 - accuracy: 0.8589\n",
            "Epoch 25/100\n",
            "13/13 [==============================] - 0s 2ms/step - loss: 0.3591 - accuracy: 0.8789\n",
            "Epoch 26/100\n",
            "13/13 [==============================] - 0s 1ms/step - loss: 0.3512 - accuracy: 0.8660\n",
            "Epoch 27/100\n",
            "13/13 [==============================] - 0s 3ms/step - loss: 0.3863 - accuracy: 0.8199\n",
            "Epoch 28/100\n",
            "13/13 [==============================] - 0s 2ms/step - loss: 0.3452 - accuracy: 0.8340\n",
            "Epoch 29/100\n",
            "13/13 [==============================] - 0s 2ms/step - loss: 0.3447 - accuracy: 0.8444\n",
            "Epoch 30/100\n",
            "13/13 [==============================] - 0s 2ms/step - loss: 0.3284 - accuracy: 0.8519\n",
            "Epoch 31/100\n",
            "13/13 [==============================] - 0s 2ms/step - loss: 0.3449 - accuracy: 0.8236\n",
            "Epoch 32/100\n",
            "13/13 [==============================] - 0s 2ms/step - loss: 0.4154 - accuracy: 0.8082\n",
            "Epoch 33/100\n",
            "13/13 [==============================] - 0s 2ms/step - loss: 0.2902 - accuracy: 0.8811\n",
            "Epoch 34/100\n",
            "13/13 [==============================] - 0s 2ms/step - loss: 0.4043 - accuracy: 0.8146\n",
            "Epoch 35/100\n",
            "13/13 [==============================] - 0s 2ms/step - loss: 0.2977 - accuracy: 0.8745\n",
            "Epoch 36/100\n",
            "13/13 [==============================] - 0s 2ms/step - loss: 0.3037 - accuracy: 0.8760\n",
            "Epoch 37/100\n",
            "13/13 [==============================] - 0s 2ms/step - loss: 0.2969 - accuracy: 0.8613\n",
            "Epoch 38/100\n",
            "13/13 [==============================] - 0s 2ms/step - loss: 0.3299 - accuracy: 0.8470\n",
            "Epoch 39/100\n",
            "13/13 [==============================] - 0s 2ms/step - loss: 0.3041 - accuracy: 0.8424\n",
            "Epoch 40/100\n",
            "13/13 [==============================] - 0s 2ms/step - loss: 0.2957 - accuracy: 0.8671\n",
            "Epoch 41/100\n",
            "13/13 [==============================] - 0s 2ms/step - loss: 0.2894 - accuracy: 0.8710\n",
            "Epoch 42/100\n",
            "13/13 [==============================] - 0s 2ms/step - loss: 0.3014 - accuracy: 0.8581\n",
            "Epoch 43/100\n",
            "13/13 [==============================] - 0s 3ms/step - loss: 0.2944 - accuracy: 0.8816\n",
            "Epoch 44/100\n",
            "13/13 [==============================] - 0s 2ms/step - loss: 0.3250 - accuracy: 0.8403\n",
            "Epoch 45/100\n",
            "13/13 [==============================] - 0s 2ms/step - loss: 0.2584 - accuracy: 0.9085\n",
            "Epoch 46/100\n",
            "13/13 [==============================] - 0s 2ms/step - loss: 0.3047 - accuracy: 0.8732\n",
            "Epoch 47/100\n",
            "13/13 [==============================] - 0s 2ms/step - loss: 0.3008 - accuracy: 0.8452\n",
            "Epoch 48/100\n",
            "13/13 [==============================] - 0s 2ms/step - loss: 0.2511 - accuracy: 0.9061\n",
            "Epoch 49/100\n",
            "13/13 [==============================] - 0s 2ms/step - loss: 0.2879 - accuracy: 0.8698\n",
            "Epoch 50/100\n",
            "13/13 [==============================] - 0s 2ms/step - loss: 0.3198 - accuracy: 0.8564\n",
            "Epoch 51/100\n",
            "13/13 [==============================] - 0s 2ms/step - loss: 0.2682 - accuracy: 0.8723\n",
            "Epoch 52/100\n",
            "13/13 [==============================] - 0s 2ms/step - loss: 0.3375 - accuracy: 0.8214\n",
            "Epoch 53/100\n",
            "13/13 [==============================] - 0s 2ms/step - loss: 0.3282 - accuracy: 0.8482\n",
            "Epoch 54/100\n",
            "13/13 [==============================] - 0s 2ms/step - loss: 0.3283 - accuracy: 0.8341\n",
            "Epoch 55/100\n",
            "13/13 [==============================] - 0s 2ms/step - loss: 0.2734 - accuracy: 0.8872\n",
            "Epoch 56/100\n",
            "13/13 [==============================] - 0s 2ms/step - loss: 0.2608 - accuracy: 0.9022\n",
            "Epoch 57/100\n",
            "13/13 [==============================] - 0s 2ms/step - loss: 0.2535 - accuracy: 0.8990\n",
            "Epoch 58/100\n",
            "13/13 [==============================] - 0s 2ms/step - loss: 0.2961 - accuracy: 0.8616\n",
            "Epoch 59/100\n",
            "13/13 [==============================] - 0s 2ms/step - loss: 0.2790 - accuracy: 0.8932\n",
            "Epoch 60/100\n",
            "13/13 [==============================] - 0s 1ms/step - loss: 0.2653 - accuracy: 0.8942\n",
            "Epoch 61/100\n",
            "13/13 [==============================] - 0s 2ms/step - loss: 0.2794 - accuracy: 0.8905\n",
            "Epoch 62/100\n",
            "13/13 [==============================] - 0s 2ms/step - loss: 0.2622 - accuracy: 0.9036\n",
            "Epoch 63/100\n",
            "13/13 [==============================] - 0s 2ms/step - loss: 0.2884 - accuracy: 0.8920\n",
            "Epoch 64/100\n",
            "13/13 [==============================] - 0s 2ms/step - loss: 0.3186 - accuracy: 0.8726\n",
            "Epoch 65/100\n",
            "13/13 [==============================] - 0s 2ms/step - loss: 0.2344 - accuracy: 0.8990\n",
            "Epoch 66/100\n",
            "13/13 [==============================] - 0s 2ms/step - loss: 0.2523 - accuracy: 0.9020\n",
            "Epoch 67/100\n",
            "13/13 [==============================] - 0s 2ms/step - loss: 0.2465 - accuracy: 0.9018\n",
            "Epoch 68/100\n",
            "13/13 [==============================] - 0s 2ms/step - loss: 0.2359 - accuracy: 0.9129\n",
            "Epoch 69/100\n",
            "13/13 [==============================] - 0s 2ms/step - loss: 0.2713 - accuracy: 0.8871\n",
            "Epoch 70/100\n",
            "13/13 [==============================] - 0s 2ms/step - loss: 0.2751 - accuracy: 0.8830\n",
            "Epoch 71/100\n",
            "13/13 [==============================] - 0s 2ms/step - loss: 0.2904 - accuracy: 0.8866\n",
            "Epoch 72/100\n",
            "13/13 [==============================] - 0s 2ms/step - loss: 0.2767 - accuracy: 0.8826\n",
            "Epoch 73/100\n",
            "13/13 [==============================] - 0s 2ms/step - loss: 0.3081 - accuracy: 0.8610\n",
            "Epoch 74/100\n",
            "13/13 [==============================] - 0s 2ms/step - loss: 0.2857 - accuracy: 0.8782\n",
            "Epoch 75/100\n",
            "13/13 [==============================] - 0s 3ms/step - loss: 0.2903 - accuracy: 0.8986\n",
            "Epoch 76/100\n",
            "13/13 [==============================] - 0s 3ms/step - loss: 0.2685 - accuracy: 0.8775\n",
            "Epoch 77/100\n",
            "13/13 [==============================] - 0s 2ms/step - loss: 0.2751 - accuracy: 0.8790\n",
            "Epoch 78/100\n",
            "13/13 [==============================] - 0s 2ms/step - loss: 0.2552 - accuracy: 0.9088\n",
            "Epoch 79/100\n",
            "13/13 [==============================] - 0s 2ms/step - loss: 0.2488 - accuracy: 0.9241\n",
            "Epoch 80/100\n",
            "13/13 [==============================] - 0s 2ms/step - loss: 0.2877 - accuracy: 0.8790\n",
            "Epoch 81/100\n",
            "13/13 [==============================] - 0s 2ms/step - loss: 0.2342 - accuracy: 0.9105\n",
            "Epoch 82/100\n",
            "13/13 [==============================] - 0s 2ms/step - loss: 0.2688 - accuracy: 0.8745\n",
            "Epoch 83/100\n",
            "13/13 [==============================] - 0s 2ms/step - loss: 0.2543 - accuracy: 0.8853\n",
            "Epoch 84/100\n",
            "13/13 [==============================] - 0s 2ms/step - loss: 0.2154 - accuracy: 0.9137\n",
            "Epoch 85/100\n",
            "13/13 [==============================] - 0s 2ms/step - loss: 0.2638 - accuracy: 0.9036\n",
            "Epoch 86/100\n",
            "13/13 [==============================] - 0s 2ms/step - loss: 0.2236 - accuracy: 0.9284\n",
            "Epoch 87/100\n",
            "13/13 [==============================] - 0s 2ms/step - loss: 0.2651 - accuracy: 0.8866\n",
            "Epoch 88/100\n",
            "13/13 [==============================] - 0s 2ms/step - loss: 0.2328 - accuracy: 0.9177\n",
            "Epoch 89/100\n",
            "13/13 [==============================] - 0s 2ms/step - loss: 0.3046 - accuracy: 0.8961\n",
            "Epoch 90/100\n",
            "13/13 [==============================] - 0s 2ms/step - loss: 0.2501 - accuracy: 0.9049\n",
            "Epoch 91/100\n",
            "13/13 [==============================] - 0s 2ms/step - loss: 0.2659 - accuracy: 0.8814\n",
            "Epoch 92/100\n",
            "13/13 [==============================] - 0s 1ms/step - loss: 0.2272 - accuracy: 0.9078\n",
            "Epoch 93/100\n",
            "13/13 [==============================] - 0s 2ms/step - loss: 0.2028 - accuracy: 0.9162\n",
            "Epoch 94/100\n",
            "13/13 [==============================] - 0s 2ms/step - loss: 0.2099 - accuracy: 0.9401\n",
            "Epoch 95/100\n",
            "13/13 [==============================] - 0s 2ms/step - loss: 0.3255 - accuracy: 0.8691\n",
            "Epoch 96/100\n",
            "13/13 [==============================] - 0s 2ms/step - loss: 0.2564 - accuracy: 0.8977\n",
            "Epoch 97/100\n",
            "13/13 [==============================] - 0s 2ms/step - loss: 0.2194 - accuracy: 0.9160\n",
            "Epoch 98/100\n",
            "13/13 [==============================] - 0s 2ms/step - loss: 0.2227 - accuracy: 0.9275\n",
            "Epoch 99/100\n",
            "13/13 [==============================] - 0s 2ms/step - loss: 0.2415 - accuracy: 0.9152\n",
            "Epoch 100/100\n",
            "13/13 [==============================] - 0s 3ms/step - loss: 0.2643 - accuracy: 0.9095\n"
          ],
          "name": "stdout"
        },
        {
          "output_type": "execute_result",
          "data": {
            "text/plain": [
              "<tensorflow.python.keras.callbacks.History at 0x7f3317258d90>"
            ]
          },
          "metadata": {
            "tags": []
          },
          "execution_count": 24
        }
      ]
    },
    {
      "cell_type": "code",
      "metadata": {
        "colab": {
          "base_uri": "https://localhost:8080/"
        },
        "id": "3AfFiKDyc6IK",
        "outputId": "34d69de2-c2bb-4d94-bf90-e3e7f6d0d75d"
      },
      "source": [
        "loss, acc = model.evaluate(X_test, Y_test, verbose=0)\n",
        "print(\"Loss:\", loss, \"Accuracy:\", acc)"
      ],
      "execution_count": 26,
      "outputs": [
        {
          "output_type": "stream",
          "text": [
            "Loss: 0.5450414419174194 Accuracy: 0.747474730014801\n"
          ],
          "name": "stdout"
        }
      ]
    },
    {
      "cell_type": "markdown",
      "metadata": {
        "id": "t84Ws4lydZ7W"
      },
      "source": [
        "## Generating a Classification Report"
      ]
    },
    {
      "cell_type": "code",
      "metadata": {
        "id": "rBp2_igYddNy"
      },
      "source": [
        "y_estimate = model.predict(X_test, verbose=0)"
      ],
      "execution_count": 27,
      "outputs": []
    },
    {
      "cell_type": "code",
      "metadata": {
        "id": "lacrYgIldosV"
      },
      "source": [
        "#selecting the indices of the true classes for each label\n",
        "y_estimate = np.argmax(y_estimate, axis=1)\n",
        "y_true = np.argmax(Y_test, axis=1)"
      ],
      "execution_count": 28,
      "outputs": []
    },
    {
      "cell_type": "code",
      "metadata": {
        "colab": {
          "base_uri": "https://localhost:8080/"
        },
        "id": "1azSlE1qeTZp",
        "outputId": "23742cf1-783d-49aa-aa10-f8e4fba68dbf"
      },
      "source": [
        "#printing the additional metrics such as F1 score\n",
        "print(classification_report(y_true, y_estimate))"
      ],
      "execution_count": 30,
      "outputs": [
        {
          "output_type": "stream",
          "text": [
            "              precision    recall  f1-score   support\n",
            "\n",
            "           0       0.75      0.84      0.79        57\n",
            "           1       0.74      0.62      0.68        42\n",
            "\n",
            "    accuracy                           0.75        99\n",
            "   macro avg       0.75      0.73      0.73        99\n",
            "weighted avg       0.75      0.75      0.74        99\n",
            "\n"
          ],
          "name": "stdout"
        }
      ]
    },
    {
      "cell_type": "markdown",
      "metadata": {
        "id": "neN6bngde0CD"
      },
      "source": [
        "The above results show a good model performance with a F1 score of 0.74. "
      ]
    }
  ]
}